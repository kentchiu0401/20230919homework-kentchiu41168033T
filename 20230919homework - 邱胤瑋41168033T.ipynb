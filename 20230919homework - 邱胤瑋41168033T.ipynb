{
 "cells": [
  {
   "cell_type": "code",
   "execution_count": 11,
   "id": "cbd400ea",
   "metadata": {},
   "outputs": [],
   "source": [
    "a = [0,1,2,3]  #建立一個數字串列並列印串列的長度"
   ]
  },
  {
   "cell_type": "code",
   "execution_count": 12,
   "id": "cef7189f",
   "metadata": {},
   "outputs": [
    {
     "data": {
      "text/plain": [
       "4"
      ]
     },
     "execution_count": 12,
     "metadata": {},
     "output_type": "execute_result"
    }
   ],
   "source": [
    "len(a) #建立一個數字串列並列印串列的長度"
   ]
  },
  {
   "cell_type": "code",
   "execution_count": 13,
   "id": "196e3f42",
   "metadata": {},
   "outputs": [],
   "source": [
    "a = a+[2] #在串列的末尾新增一個數字並再次列印串列"
   ]
  },
  {
   "cell_type": "code",
   "execution_count": 14,
   "id": "6d61dd3f",
   "metadata": {},
   "outputs": [
    {
     "data": {
      "text/plain": [
       "[0, 1, 2, 3, 2]"
      ]
     },
     "execution_count": 14,
     "metadata": {},
     "output_type": "execute_result"
    }
   ],
   "source": [
    "a"
   ]
  },
  {
   "cell_type": "code",
   "execution_count": 17,
   "id": "a809794c",
   "metadata": {},
   "outputs": [],
   "source": [
    "del a[0] #從串列中移除第一個數字並再次列印串列"
   ]
  },
  {
   "cell_type": "code",
   "execution_count": 18,
   "id": "6d1b7cc1",
   "metadata": {},
   "outputs": [
    {
     "data": {
      "text/plain": [
       "[1, 2, 3, 2]"
      ]
     },
     "execution_count": 18,
     "metadata": {},
     "output_type": "execute_result"
    }
   ],
   "source": [
    "a"
   ]
  },
  {
   "cell_type": "code",
   "execution_count": 20,
   "id": "3866c986",
   "metadata": {},
   "outputs": [],
   "source": [
    "a.sort() #將串列排序為升序並再次列印串列"
   ]
  },
  {
   "cell_type": "code",
   "execution_count": 21,
   "id": "bfaefd03",
   "metadata": {},
   "outputs": [
    {
     "data": {
      "text/plain": [
       "[1, 2, 2, 3]"
      ]
     },
     "execution_count": 21,
     "metadata": {},
     "output_type": "execute_result"
    }
   ],
   "source": [
    "a"
   ]
  },
  {
   "cell_type": "code",
   "execution_count": 22,
   "id": "32efa451",
   "metadata": {},
   "outputs": [],
   "source": [
    "b = a[::-1] #反轉串列並再次列印串列"
   ]
  },
  {
   "cell_type": "code",
   "execution_count": 23,
   "id": "a73ca1c4",
   "metadata": {},
   "outputs": [
    {
     "data": {
      "text/plain": [
       "[3, 2, 2, 1]"
      ]
     },
     "execution_count": 23,
     "metadata": {},
     "output_type": "execute_result"
    }
   ],
   "source": [
    "b"
   ]
  },
  {
   "cell_type": "code",
   "execution_count": 25,
   "id": "e14fab3c",
   "metadata": {},
   "outputs": [
    {
     "data": {
      "text/plain": [
       "1"
      ]
     },
     "execution_count": 25,
     "metadata": {},
     "output_type": "execute_result"
    }
   ],
   "source": [
    "b[3] #在串列中尋找一個數字的索引"
   ]
  },
  {
   "cell_type": "code",
   "execution_count": 26,
   "id": "4d2df44e",
   "metadata": {},
   "outputs": [
    {
     "data": {
      "text/plain": [
       "True"
      ]
     },
     "execution_count": 26,
     "metadata": {},
     "output_type": "execute_result"
    }
   ],
   "source": [
    "3 in b #檢查一個數字是否在串列中"
   ]
  },
  {
   "cell_type": "code",
   "execution_count": 27,
   "id": "9f71a3c2",
   "metadata": {},
   "outputs": [
    {
     "data": {
      "text/plain": [
       "False"
      ]
     },
     "execution_count": 27,
     "metadata": {},
     "output_type": "execute_result"
    }
   ],
   "source": [
    "4 in a #檢查一個數字是否在串列中"
   ]
  },
  {
   "cell_type": "code",
   "execution_count": 28,
   "id": "90a1e404",
   "metadata": {},
   "outputs": [
    {
     "data": {
      "text/plain": [
       "[2, 2]"
      ]
     },
     "execution_count": 28,
     "metadata": {},
     "output_type": "execute_result"
    }
   ],
   "source": [
    "b[1:3] #取得串列的切片"
   ]
  },
  {
   "cell_type": "code",
   "execution_count": 29,
   "id": "c3afefc0",
   "metadata": {},
   "outputs": [
    {
     "data": {
      "text/plain": [
       "[3, 2]"
      ]
     },
     "execution_count": 29,
     "metadata": {},
     "output_type": "execute_result"
    }
   ],
   "source": [
    "b[:2] #取得串列的切片"
   ]
  },
  {
   "cell_type": "code",
   "execution_count": 30,
   "id": "0f6a9967",
   "metadata": {},
   "outputs": [
    {
     "data": {
      "text/plain": [
       "[2, 1]"
      ]
     },
     "execution_count": 30,
     "metadata": {},
     "output_type": "execute_result"
    }
   ],
   "source": [
    "b[2:] #取得串列的切片"
   ]
  },
  {
   "cell_type": "code",
   "execution_count": 31,
   "id": "4ac4b440",
   "metadata": {},
   "outputs": [],
   "source": [
    "c = (4,5,6,7,8) #建立一個數字元組並列印元組"
   ]
  },
  {
   "cell_type": "code",
   "execution_count": 32,
   "id": "d684b35e",
   "metadata": {},
   "outputs": [
    {
     "data": {
      "text/plain": [
       "(4, 5, 6, 7, 8)"
      ]
     },
     "execution_count": 32,
     "metadata": {},
     "output_type": "execute_result"
    }
   ],
   "source": [
    "c"
   ]
  },
  {
   "cell_type": "code",
   "execution_count": 33,
   "id": "238dce3a",
   "metadata": {},
   "outputs": [
    {
     "data": {
      "text/plain": [
       "False"
      ]
     },
     "execution_count": 33,
     "metadata": {},
     "output_type": "execute_result"
    }
   ],
   "source": [
    "3 in c #檢查一個數字是否在元組中"
   ]
  },
  {
   "cell_type": "code",
   "execution_count": 34,
   "id": "ecc21718",
   "metadata": {},
   "outputs": [
    {
     "data": {
      "text/plain": [
       "True"
      ]
     },
     "execution_count": 34,
     "metadata": {},
     "output_type": "execute_result"
    }
   ],
   "source": [
    "8 in c #檢查一個數字是否在元組中"
   ]
  },
  {
   "cell_type": "code",
   "execution_count": 41,
   "id": "a4b8ddc0",
   "metadata": {
    "scrolled": true
   },
   "outputs": [
    {
     "data": {
      "text/plain": [
       "(6, 7, 8)"
      ]
     },
     "execution_count": 41,
     "metadata": {},
     "output_type": "execute_result"
    }
   ],
   "source": [
    "c[2:5] #取得元組的切片"
   ]
  },
  {
   "cell_type": "code",
   "execution_count": 42,
   "id": "5767e6bc",
   "metadata": {},
   "outputs": [
    {
     "data": {
      "text/plain": [
       "(6, 7, 8)"
      ]
     },
     "execution_count": 42,
     "metadata": {},
     "output_type": "execute_result"
    }
   ],
   "source": [
    "c[2:] #取得元組的切片"
   ]
  },
  {
   "cell_type": "code",
   "execution_count": 43,
   "id": "d023e563",
   "metadata": {},
   "outputs": [
    {
     "data": {
      "text/plain": [
       "(4, 5)"
      ]
     },
     "execution_count": 43,
     "metadata": {},
     "output_type": "execute_result"
    }
   ],
   "source": [
    "c[:2] #取得元組的切片"
   ]
  },
  {
   "cell_type": "code",
   "execution_count": null,
   "id": "e6017949",
   "metadata": {},
   "outputs": [],
   "source": []
  }
 ],
 "metadata": {
  "kernelspec": {
   "display_name": "Python 3 (ipykernel)",
   "language": "python",
   "name": "python3"
  },
  "language_info": {
   "codemirror_mode": {
    "name": "ipython",
    "version": 3
   },
   "file_extension": ".py",
   "mimetype": "text/x-python",
   "name": "python",
   "nbconvert_exporter": "python",
   "pygments_lexer": "ipython3",
   "version": "3.11.4"
  }
 },
 "nbformat": 4,
 "nbformat_minor": 5
}
